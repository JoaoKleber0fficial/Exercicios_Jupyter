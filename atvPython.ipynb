{
 "cells": [
  {
   "cell_type": "code",
   "execution_count": 102,
   "id": "cd6d9048-0838-46d3-8080-9aecd0abb20e",
   "metadata": {},
   "outputs": [],
   "source": [
    "from colorama import Fore"
   ]
  },
  {
   "cell_type": "markdown",
   "id": "8ecb56c9-5021-423b-8167-7410a6e86e3f",
   "metadata": {},
   "source": [
    "# Lista Exercicios"
   ]
  },
  {
   "cell_type": "code",
   "execution_count": 2,
   "id": "3223c80e-9b17-48b0-8668-35ce50b32a00",
   "metadata": {},
   "outputs": [
    {
     "name": "stdin",
     "output_type": "stream",
     "text": [
      "Coloque o seu nome:  João Kleber de Moraes Dias Vicente\n"
     ]
    },
    {
     "name": "stdout",
     "output_type": "stream",
     "text": [
      "Bem-vindo!! João Kleber de Moraes Dias Vicente\n"
     ]
    }
   ],
   "source": [
    "# Exercicio 1\n",
    "\n",
    "nome = str(input('Coloque o seu nome: '))\n",
    "print(f'Bem-vindo!! {nome}')"
   ]
  },
  {
   "cell_type": "code",
   "execution_count": 9,
   "id": "1a32011d-f1e7-49b5-842d-b632a7bb4078",
   "metadata": {},
   "outputs": [
    {
     "name": "stdin",
     "output_type": "stream",
     "text": [
      "Coloque a 1° palavra:  João\n",
      "Coloque a 2° palavra:  Kleber\n"
     ]
    },
    {
     "name": "stdout",
     "output_type": "stream",
     "text": [
      "João Kleber\n"
     ]
    }
   ],
   "source": [
    "# Exercicio 2\n",
    "\n",
    "palavra1 = str(input('Coloque a 1° palavra: '))\n",
    "palavra2 = str(input('Coloque a 2° palavra: '))\n",
    "\n",
    "print(palavra1, palavra2)"
   ]
  },
  {
   "cell_type": "code",
   "execution_count": 71,
   "id": "d6be4ae3-9f6a-4045-a2fa-7017a33384f9",
   "metadata": {},
   "outputs": [
    {
     "name": "stdin",
     "output_type": "stream",
     "text": [
      "Coloque qualquer palavra:  João Kleber de Moraes Dias Vicente\n"
     ]
    },
    {
     "name": "stdout",
     "output_type": "stream",
     "text": [
      "6\n"
     ]
    }
   ],
   "source": [
    "# Exercicio 3\n",
    "\n",
    "frase = str(input('Coloque qualquer palavra: '))\n",
    "\n",
    "print(len(frase.split()))"
   ]
  },
  {
   "cell_type": "code",
   "execution_count": 17,
   "id": "78f7ae18-fac3-43b3-9bd8-c7d668409ca2",
   "metadata": {},
   "outputs": [
    {
     "name": "stdin",
     "output_type": "stream",
     "text": [
      "Coloque um numero aleatorio:  19\n",
      "Coloque outro numero aleatorio:  20\n"
     ]
    },
    {
     "name": "stdout",
     "output_type": "stream",
     "text": [
      "39.0\n"
     ]
    }
   ],
   "source": [
    "# Exercicio 4\n",
    "\n",
    "numero1 = float(input('Coloque um numero aleatorio: '))\n",
    "numero2 = float(input('Coloque outro numero aleatorio: '))\n",
    "\n",
    "soma = numero1 + numero2\n",
    "\n",
    "print(soma)"
   ]
  },
  {
   "cell_type": "code",
   "execution_count": 18,
   "id": "9182523b-da35-4a8d-a1c2-363bf73f9075",
   "metadata": {},
   "outputs": [
    {
     "name": "stdin",
     "output_type": "stream",
     "text": [
      "Coloque o 1° numero:  10\n",
      "Coloque o 2° numero:  7\n",
      "Coloque o 3° numero:  10\n"
     ]
    },
    {
     "name": "stdout",
     "output_type": "stream",
     "text": [
      "A media das notas são: 9.0\n"
     ]
    }
   ],
   "source": [
    "# Exercicio 5\n",
    "\n",
    "nota1 = float(input('Coloque o 1° numero: '))\n",
    "nota2 = float(input('Coloque o 2° numero: '))\n",
    "nota3 = float(input('Coloque o 3° numero: '))\n",
    "\n",
    "media = (nota1 + nota2 + nota3) / 3\n",
    "\n",
    "print(f'A media das notas são: {media}')"
   ]
  },
  {
   "cell_type": "code",
   "execution_count": 39,
   "id": "30d16a52-f266-4ac8-8f25-127e7070c71a",
   "metadata": {},
   "outputs": [
    {
     "name": "stdin",
     "output_type": "stream",
     "text": [
      "Coloque o 1° numero:  1\n",
      "Coloque o 2° numero:  5\n",
      "Coloque o 3° numero:  10\n"
     ]
    },
    {
     "name": "stdout",
     "output_type": "stream",
     "text": [
      "O maior numero é o 10.0 e o menor é o 1.0\n"
     ]
    }
   ],
   "source": [
    "# Exercicio 6\n",
    "\n",
    "numero1 = float(input('Coloque o 1° numero: '))\n",
    "numero2 = float(input('Coloque o 2° numero: '))\n",
    "numero3 = float(input('Coloque o 3° numero: '))\n",
    "\n",
    "# Maior\n",
    "maior = max(numero1, numero2, numero3)\n",
    "\n",
    "# Menor\n",
    "menor = min(numero1, numero2, numero3)\n",
    "\n",
    "print(f'O maior numero é o {maior} e o menor é o {menor}')"
   ]
  },
  {
   "cell_type": "code",
   "execution_count": 43,
   "id": "8dc846ed-fb11-41f8-b18b-02bb326e1584",
   "metadata": {},
   "outputs": [
    {
     "name": "stdin",
     "output_type": "stream",
     "text": [
      "Coloque qualquer numero:  101\n"
     ]
    },
    {
     "name": "stdout",
     "output_type": "stream",
     "text": [
      "O seu numero 101.0 é maior que 100\n"
     ]
    }
   ],
   "source": [
    "# Exercicio 7\n",
    "\n",
    "numero = float(input('Coloque qualquer numero: '))\n",
    "\n",
    "if numero > 100.0:\n",
    "    print(f'O seu numero {numero} é maior que 100')\n",
    "if numero == 100.0:\n",
    "    print(f'O seu numero {numero} é igual que 100')\n",
    "if numero < 100.0:\n",
    "    print(f'O seu numero {numero} é menor que 100')"
   ]
  },
  {
   "cell_type": "code",
   "execution_count": 61,
   "id": "0d8832dc-71a5-4641-80a5-0dac33c06102",
   "metadata": {},
   "outputs": [
    {
     "name": "stdin",
     "output_type": "stream",
     "text": [
      "Coloque um numero aleatorio:  10\n",
      "Coloque outro numero aleatorio:  10\n"
     ]
    },
    {
     "name": "stdout",
     "output_type": "stream",
     "text": [
      "Eles são o mesmo numero\n"
     ]
    }
   ],
   "source": [
    "# Exercicio 8\n",
    "\n",
    "numero1 = float(input('Coloque um numero aleatorio: '))\n",
    "numero2 = float(input('Coloque outro numero aleatorio: '))\n",
    "\n",
    "while True:\n",
    "    if numero1 == numero2:\n",
    "        print('Eles são o mesmo numero')\n",
    "        break\n",
    "        \n",
    "    max = numero1\n",
    "    \n",
    "    if numero2 > numero1:\n",
    "        max = numero2\n",
    "        print(f'Numero {max} é maior que o numero {numero1}')\n",
    "        break\n",
    "    else:\n",
    "        print(f'Numero {max} é maior que o numero {numero2}')\n",
    "        break"
   ]
  },
  {
   "cell_type": "code",
   "execution_count": 78,
   "id": "958799b1-e88d-47e8-b7e0-2854438cd23a",
   "metadata": {},
   "outputs": [
    {
     "name": "stdin",
     "output_type": "stream",
     "text": [
      "Coloque 1° numero:  10\n",
      "Coloque 2° numero:  10\n",
      "Coloque 3° numero:  10\n"
     ]
    },
    {
     "name": "stdout",
     "output_type": "stream",
     "text": [
      "Pode ser um triangulo\n"
     ]
    }
   ],
   "source": [
    "# Exercicio 9\n",
    "\n",
    "numero1 = int(input('Coloque 1° numero: '))\n",
    "numero2 = int(input('Coloque 2° numero: '))\n",
    "numero3 = int(input('Coloque 3° numero: '))\n",
    "\n",
    "if ((numero1 + numero2) > numero3) or ((numero2 + numero3) > numero1) or ((numero3 + numero1) > numero2):\n",
    "    print('Pode ser um triangulo')\n",
    "else:\n",
    "    print('Não pode ser um triangulo')"
   ]
  },
  {
   "cell_type": "code",
   "execution_count": 65,
   "id": "3940974c-8192-4542-b73d-82b2756d4e93",
   "metadata": {},
   "outputs": [
    {
     "name": "stdin",
     "output_type": "stream",
     "text": [
      "Coloque um numero: 10\n"
     ]
    },
    {
     "name": "stdout",
     "output_type": "stream",
     "text": [
      "10\n",
      "20\n",
      "30\n",
      "40\n",
      "50\n",
      "60\n",
      "70\n",
      "80\n",
      "90\n",
      "100\n"
     ]
    }
   ],
   "source": [
    "# Exercicio 10\n",
    "\n",
    "numero = int(input('Coloque um numero:'))\n",
    "\n",
    "for mult in range(1, 11):\n",
    "    print(mult * numero)"
   ]
  },
  {
   "cell_type": "code",
   "execution_count": 89,
   "id": "0338d398-42bd-4bdc-95b5-3284937d9305",
   "metadata": {},
   "outputs": [
    {
     "name": "stdin",
     "output_type": "stream",
     "text": [
      "Coloque um numero aleatorio: 10\n"
     ]
    },
    {
     "name": "stdout",
     "output_type": "stream",
     "text": [
      "Esse são os numeros divisores: [2, 5]\n"
     ]
    }
   ],
   "source": [
    "# Exercicio 11\n",
    "\n",
    "\n",
    "\n",
    "numero = int(input('Coloque um numero aleatorio:')) === 10\n",
    "\n",
    "divisores = []\n",
    "\n",
    "for div in range(2, numero - 1):\n",
    "    if numero % div == 0:\n",
    "        divisores.append(div)\n",
    "\n",
    "print(f'Esse são os numeros divisores: {divisores}')"
   ]
  },
  {
   "cell_type": "code",
   "execution_count": 116,
   "id": "e1a28d09-2b4f-480d-b042-26d33187f9bf",
   "metadata": {},
   "outputs": [
    {
     "name": "stdin",
     "output_type": "stream",
     "text": [
      "Coloque um numero aleatorio:  16\n"
     ]
    },
    {
     "name": "stdout",
     "output_type": "stream",
     "text": [
      "Esse 16 não é primo\n"
     ]
    }
   ],
   "source": [
    "# Exercicio 12\n",
    "\n",
    "numero = int(input('Coloque um numero aleatorio: '))\n",
    "divisores = []\n",
    "\n",
    "for div in range(2, numero - 1):\n",
    "    if numero % div == 0:\n",
    "        divisores.append(div)\n",
    "\n",
    "if divisores == []:\n",
    "    print(f'Esse {numero} é primo')\n",
    "else:\n",
    "    print(f'Esse {numero} não é primo')"
   ]
  },
  {
   "cell_type": "code",
   "execution_count": 97,
   "id": "815aeda9-e2cb-4a6b-90d3-5df0f4b8b62a",
   "metadata": {},
   "outputs": [
    {
     "name": "stdin",
     "output_type": "stream",
     "text": [
      "Coloque um numero menor que 999:  10\n"
     ]
    },
    {
     "name": "stdout",
     "output_type": "stream",
     "text": [
      "10\n",
      "9\n",
      "8\n",
      "7\n",
      "6\n",
      "5\n",
      "4\n",
      "3\n",
      "2\n",
      "1\n"
     ]
    }
   ],
   "source": [
    "# Exercicio 13\n",
    "\n",
    "numero = int(input('Coloque um numero menor que 999: '))\n",
    "\n",
    "if numero <= 999:\n",
    "    while numero != 0:\n",
    "        print(numero)\n",
    "        numero -= 1"
   ]
  },
  {
   "cell_type": "code",
   "execution_count": 117,
   "id": "8e9065a7-0293-430b-b867-8477d95fe69f",
   "metadata": {},
   "outputs": [
    {
     "name": "stdin",
     "output_type": "stream",
     "text": [
      "Coloque um numero aleatorio: 18\n"
     ]
    },
    {
     "name": "stdout",
     "output_type": "stream",
     "text": [
      "1\n",
      "2\n",
      "3\n",
      "4\n",
      "5\n",
      "6\n",
      "7\n",
      "8\n",
      "9\n",
      "10\n",
      "11\n",
      "12\n",
      "13\n",
      "14\n",
      "15\n",
      "16\n",
      "17\n",
      "18\n",
      "Agora eles estão iguais: (18, 18)\n"
     ]
    }
   ],
   "source": [
    "# Exercicio 14\n",
    "\n",
    "numero = int(input('Coloque um numero aleatorio:'))\n",
    "\n",
    "numeroIgual = 0\n",
    "\n",
    "while numero != numeroIgual:\n",
    "    numeroIgual += 1\n",
    "    print(numeroIgual)\n",
    "        \n",
    "print(f'Agora eles estão iguais: {numero, numeroIgual}')"
   ]
  },
  {
   "cell_type": "code",
   "execution_count": 152,
   "id": "48bffea3-8bec-42b3-b769-1d4dc1ea8499",
   "metadata": {},
   "outputs": [
    {
     "name": "stdin",
     "output_type": "stream",
     "text": [
      "Qual cor você escolhe:  3\n"
     ]
    },
    {
     "name": "stdout",
     "output_type": "stream",
     "text": [
      "\u001b[35mMagenta\n"
     ]
    }
   ],
   "source": [
    "# Exercicio 16\n",
    "\n",
    "cores = ['Vermelho', 'Verde', 'Magenta', 'Azul', 'Amarelo']\n",
    "\n",
    "pergunta = str(input('Qual cor você escolhe: '))\n",
    "\n",
    "if pergunta == '1':\n",
    "    print(Fore.RED + cores[0])\n",
    "\n",
    "if pergunta == '2':\n",
    "    print(Fore.GREEN + cores[1])\n",
    "\n",
    "if pergunta == '3':\n",
    "    print(Fore.MAGENTA + cores[2])\n",
    "\n",
    "if pergunta == '4':\n",
    "    print(Fore.BLUE + cores[3])\n",
    "\n",
    "if pergunta == '5':\n",
    "    print(Fore.YELLOW + cores[4])"
   ]
  },
  {
   "cell_type": "code",
   "execution_count": 203,
   "id": "7a4162fc-e593-40e8-a770-8aa4d34a470c",
   "metadata": {},
   "outputs": [
    {
     "name": "stdin",
     "output_type": "stream",
     "text": [
      "Coloque o 1° numero: 1\n",
      "Coloque o 2° numero: 2\n",
      "Coloque o 3° numero: 3\n",
      "Coloque o 4° numero: 4\n",
      "Coloque o 5° numero: 5\n"
     ]
    },
    {
     "name": "stdout",
     "output_type": "stream",
     "text": [
      "None\n"
     ]
    }
   ],
   "source": [
    "# Exercicio 17\n",
    "\n",
    "lista = []\n",
    "\n",
    "for i in range(1, 6):\n",
    "    numero = int(input(f'Coloque o {i}° numero:'))\n",
    "    lista.append(numero)\n",
    "\n",
    "oi = lista.sort(reverse = False)\n",
    "\n",
    "print(oi)"
   ]
  },
  {
   "cell_type": "code",
   "execution_count": 120,
   "id": "b761034e-7c02-4fe4-8ecf-2e711d53d1d6",
   "metadata": {},
   "outputs": [
    {
     "ename": "TypeError",
     "evalue": "unhashable type: 'dict'",
     "output_type": "error",
     "traceback": [
      "\u001b[1;31m---------------------------------------------------------------------------\u001b[0m",
      "\u001b[1;31mTypeError\u001b[0m                                 Traceback (most recent call last)",
      "Cell \u001b[1;32mIn[120], line 3\u001b[0m\n\u001b[0;32m      1\u001b[0m \u001b[38;5;66;03m# Exercicio 18\u001b[39;00m\n\u001b[1;32m----> 3\u001b[0m dicionario \u001b[38;5;241m=\u001b[39m {\n\u001b[0;32m      4\u001b[0m     {\u001b[38;5;124m'\u001b[39m\u001b[38;5;124mnome\u001b[39m\u001b[38;5;124m'\u001b[39m: \u001b[38;5;124m'\u001b[39m\u001b[38;5;124mJoao\u001b[39m\u001b[38;5;124m'\u001b[39m, \u001b[38;5;124m'\u001b[39m\u001b[38;5;124midade\u001b[39m\u001b[38;5;124m'\u001b[39m: \u001b[38;5;124m'\u001b[39m\u001b[38;5;124m18\u001b[39m\u001b[38;5;124m'\u001b[39m},\n\u001b[0;32m      5\u001b[0m     {\u001b[38;5;124m'\u001b[39m\u001b[38;5;124mnome\u001b[39m\u001b[38;5;124m'\u001b[39m: \u001b[38;5;124m'\u001b[39m\u001b[38;5;124mMM\u001b[39m\u001b[38;5;124m'\u001b[39m, \u001b[38;5;124m'\u001b[39m\u001b[38;5;124midade\u001b[39m\u001b[38;5;124m'\u001b[39m: \u001b[38;5;124m'\u001b[39m\u001b[38;5;124m28\u001b[39m\u001b[38;5;124m'\u001b[39m},\n\u001b[0;32m      6\u001b[0m     {\u001b[38;5;124m'\u001b[39m\u001b[38;5;124mnome\u001b[39m\u001b[38;5;124m'\u001b[39m: \u001b[38;5;124m'\u001b[39m\u001b[38;5;124mKK\u001b[39m\u001b[38;5;124m'\u001b[39m, \u001b[38;5;124m'\u001b[39m\u001b[38;5;124midade\u001b[39m\u001b[38;5;124m'\u001b[39m: \u001b[38;5;124m'\u001b[39m\u001b[38;5;124m38\u001b[39m\u001b[38;5;124m'\u001b[39m}\n\u001b[0;32m      7\u001b[0m }\n\u001b[0;32m      9\u001b[0m pegunta \u001b[38;5;241m=\u001b[39m \u001b[38;5;28mstr\u001b[39m(\u001b[38;5;28minput\u001b[39m(\u001b[38;5;124m'\u001b[39m\u001b[38;5;124mColoque o nome para descobri a idade do usuario:\u001b[39m\u001b[38;5;124m'\u001b[39m))\n\u001b[0;32m     11\u001b[0m \u001b[38;5;28;01mif\u001b[39;00m pergunta \u001b[38;5;241m==\u001b[39m dicionario[\u001b[38;5;124m'\u001b[39m\u001b[38;5;124mnome\u001b[39m\u001b[38;5;124m'\u001b[39m]:\n",
      "\u001b[1;31mTypeError\u001b[0m: unhashable type: 'dict'"
     ]
    }
   ],
   "source": [
    "# Exercicio 18\n",
    "\n",
    "dicionario = {\n",
    "    {'nome': 'Joao', 'idade': '18'},\n",
    "    {'nome': 'MM', 'idade': '28'},\n",
    "    {'nome': 'KK', 'idade': '38'}\n",
    "}\n",
    "\n",
    "pegunta = str(input('Coloque o nome para descobri a idade do usuario:'))\n",
    "\n",
    "if pergunta == dicionario['nome']:\n",
    "    print(dicionario['idade'])"
   ]
  },
  {
   "cell_type": "code",
   "execution_count": 139,
   "id": "a1d01626-9b31-4ce3-8cee-96f6e2824c0f",
   "metadata": {},
   "outputs": [
    {
     "data": {
      "text/plain": [
       "array([[2, 2],\n",
       "       [2, 2]])"
      ]
     },
     "execution_count": 139,
     "metadata": {},
     "output_type": "execute_result"
    }
   ],
   "source": [
    "# Exercicio 19\n",
    "\n",
    "import numpy as np\n",
    "\n",
    "matriz = np.array([[2, 2],\n",
    "                   [2, 2]])\n",
    "\n",
    "matriz"
   ]
  },
  {
   "cell_type": "code",
   "execution_count": 166,
   "id": "06beee38-ea06-4971-a2bb-e3701d76e4a5",
   "metadata": {},
   "outputs": [
    {
     "name": "stdin",
     "output_type": "stream",
     "text": [
      "Digite o valor da posição 0:0:  1\n",
      "Digite o valor da posição 0:1:  1\n",
      "Digite o valor da posição 0:2:  1\n",
      "Digite o valor da posição 1:0:  1\n",
      "Digite o valor da posição 1:1:  1\n",
      "Digite o valor da posição 1:2:  1\n",
      "Digite o valor da posição 2:0:  1\n",
      "Digite o valor da posição 2:1:  1\n",
      "Digite o valor da posição 2:2:  1\n"
     ]
    },
    {
     "name": "stdout",
     "output_type": "stream",
     "text": [
      "[1, 1, 1]\n",
      "[1, 1, 1]\n",
      "[1, 1, 1]\n"
     ]
    }
   ],
   "source": [
    "# Exercicio 20\n",
    "\n",
    "matriz = []\n",
    "\n",
    "for i in range(3):\n",
    "    matriz.append([])\n",
    "    for j in range(3):\n",
    "        matriz[i].append(int(input('Digite o valor da posição {}:{}: ' .format(i,j))))\n",
    "\n",
    "for i in range(3):\n",
    "    print(matriz[i])"
   ]
  },
  {
   "cell_type": "code",
   "execution_count": 211,
   "id": "b4f7bd2d-2930-48c0-92b5-cc2fadc78ff1",
   "metadata": {},
   "outputs": [
    {
     "name": "stdin",
     "output_type": "stream",
     "text": [
      "Digite o valor da posição 0:0:  1\n",
      "Digite o valor da posição 0:1:  1\n",
      "Digite o valor da posição 1:0:  1\n",
      "Digite o valor da posição 1:1:  1\n",
      "Digite o valor da posição 0:0:  1\n",
      "Digite o valor da posição 0:1:  1\n",
      "Digite o valor da posição 1:0:  1\n",
      "Digite o valor da posição 1:1:  1\n"
     ]
    },
    {
     "ename": "NameError",
     "evalue": "name 'matriz_soma' is not defined",
     "output_type": "error",
     "traceback": [
      "\u001b[1;31m---------------------------------------------------------------------------\u001b[0m",
      "\u001b[1;31mNameError\u001b[0m                                 Traceback (most recent call last)",
      "Cell \u001b[1;32mIn[211], line 32\u001b[0m\n\u001b[0;32m     29\u001b[0m             matriz_soma[i]\u001b[38;5;241m.\u001b[39mappend(soma)\n\u001b[0;32m     30\u001b[0m     \u001b[38;5;28;01mreturn\u001b[39;00m matriz_soma\n\u001b[1;32m---> 32\u001b[0m \u001b[38;5;28mprint\u001b[39m(matriz_soma)\n",
      "\u001b[1;31mNameError\u001b[0m: name 'matriz_soma' is not defined"
     ]
    }
   ],
   "source": [
    "# Exercicio 21\n",
    "\n",
    "matriz1 = []\n",
    "\n",
    "for i in range(2):\n",
    "    matriz1.append([])\n",
    "    for j in range(2):\n",
    "        matriz1[i].append(int(input('Digite o valor da posição {}:{}: ' .format(i,j))))\n",
    "\n",
    "matriz2 = []\n",
    "\n",
    "for i in range(2):\n",
    "    matriz2.append([])\n",
    "    for j in range(2):\n",
    "        matriz2[i].append(int(input('Digite o valor da posição {}:{}: ' .format(i,j))))\n",
    "        \n",
    "\n",
    "def somar(matriz1, matriz2):\n",
    "    matriz_soma = []\n",
    "\n",
    "    quant_linhas = len(matriz1)\n",
    "    quant_colunas = len(matriz1[0]) \n",
    "    for i in range(quant_linhas):\n",
    "\n",
    "        matriz_soma.append([])\n",
    "        for j in range(quant_colunas):\n",
    "\n",
    "            soma = matriz1[i][j] + matriz2[i][j]\n",
    "            matriz_soma[i].append(soma)\n",
    "    return matriz_soma\n",
    "\n",
    "print(matriz_soma)"
   ]
  },
  {
   "cell_type": "code",
   "execution_count": 149,
   "id": "74f66df8-58cc-471f-9a33-b46fb54fe0ae",
   "metadata": {},
   "outputs": [
    {
     "data": {
      "text/plain": [
       "20"
      ]
     },
     "execution_count": 149,
     "metadata": {},
     "output_type": "execute_result"
    }
   ],
   "source": [
    "# Exercicio 22\n",
    "\n",
    "def dobro(numero):\n",
    "    return numero * 2\n",
    "\n",
    "dobro(10)"
   ]
  },
  {
   "cell_type": "code",
   "execution_count": 151,
   "id": "e81b7289-0324-4e63-8a5c-b9c61b9427e6",
   "metadata": {},
   "outputs": [
    {
     "name": "stdout",
     "output_type": "stream",
     "text": [
      "O numero 2 é Par\n"
     ]
    }
   ],
   "source": [
    "# Exercicio 23\n",
    "\n",
    "def parImpar(numero):\n",
    "\n",
    "    if numero % 2 == 0:\n",
    "        print(f'O numero {numero} é Par')\n",
    "    else:\n",
    "        print(f'O numero {numero} é Impar')\n",
    "\n",
    "parImpar(2)"
   ]
  },
  {
   "cell_type": "markdown",
   "id": "45af8612-02c4-4e05-a14f-141c1ba69446",
   "metadata": {},
   "source": [
    "# Função sem parâmetro e sem retorno"
   ]
  },
  {
   "cell_type": "code",
   "execution_count": 128,
   "id": "00953088-635f-4022-8957-03a87a3edb86",
   "metadata": {},
   "outputs": [],
   "source": [
    "def mensagem():\n",
    "    print('Ola Mundo')"
   ]
  },
  {
   "cell_type": "code",
   "execution_count": 129,
   "id": "63828025-bbc6-4fbd-a1c1-ca8806dfdf57",
   "metadata": {},
   "outputs": [
    {
     "name": "stdout",
     "output_type": "stream",
     "text": [
      "Ola Mundo\n"
     ]
    }
   ],
   "source": [
    "mensagem()"
   ]
  },
  {
   "cell_type": "markdown",
   "id": "cc93d787-3b49-4869-9a71-147c00922b2b",
   "metadata": {},
   "source": [
    "# Função com parâmetro"
   ]
  },
  {
   "cell_type": "code",
   "execution_count": 45,
   "id": "df40bff3-88d1-4cb6-8886-d812d596c0c5",
   "metadata": {},
   "outputs": [],
   "source": [
    "def mensagem(texto):\n",
    "    print(texto)"
   ]
  },
  {
   "cell_type": "code",
   "execution_count": 46,
   "id": "778474e6-ad1f-40fa-9335-52e977e4f0cc",
   "metadata": {},
   "outputs": [
    {
     "name": "stdout",
     "output_type": "stream",
     "text": [
      "Prestem atenção porque está na lista\n"
     ]
    }
   ],
   "source": [
    "mensagem('Prestem atenção porque está na lista')"
   ]
  },
  {
   "cell_type": "code",
   "execution_count": 47,
   "id": "5f49d650-4f60-4fdc-996f-08613f8779be",
   "metadata": {},
   "outputs": [],
   "source": [
    "def soma(a, b):\n",
    "    print(a+b)"
   ]
  },
  {
   "cell_type": "code",
   "execution_count": 49,
   "id": "b2c3ea90-360e-4b9f-9007-51a0f74e6aeb",
   "metadata": {},
   "outputs": [
    {
     "name": "stdout",
     "output_type": "stream",
     "text": [
      "30\n"
     ]
    }
   ],
   "source": [
    "soma(10,20)"
   ]
  },
  {
   "cell_type": "markdown",
   "id": "11fa4691-9fdc-4431-943d-ab5da069f913",
   "metadata": {},
   "source": [
    "# Função com parâmetro e tem retorno"
   ]
  },
  {
   "cell_type": "code",
   "execution_count": 50,
   "id": "32f9563b-83d1-42fe-a95e-876718b221c2",
   "metadata": {},
   "outputs": [],
   "source": [
    "def some(a,b):\n",
    "    return a+b"
   ]
  },
  {
   "cell_type": "code",
   "execution_count": 51,
   "id": "780e416b-0548-4f1b-b615-654fb4370c13",
   "metadata": {},
   "outputs": [
    {
     "data": {
      "text/plain": [
       "30"
      ]
     },
     "execution_count": 51,
     "metadata": {},
     "output_type": "execute_result"
    }
   ],
   "source": [
    "some(10,20)"
   ]
  }
 ],
 "metadata": {
  "kernelspec": {
   "display_name": "Python 3 (ipykernel)",
   "language": "python",
   "name": "python3"
  },
  "language_info": {
   "codemirror_mode": {
    "name": "ipython",
    "version": 3
   },
   "file_extension": ".py",
   "mimetype": "text/x-python",
   "name": "python",
   "nbconvert_exporter": "python",
   "pygments_lexer": "ipython3",
   "version": "3.12.7"
  }
 },
 "nbformat": 4,
 "nbformat_minor": 5
}
